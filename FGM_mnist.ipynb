{
 "cells": [
  {
   "cell_type": "code",
   "execution_count": null,
   "metadata": {
    "tags": []
   },
   "outputs": [],
   "source": [
    "\"\"\"\n",
    "PyTorch MNIST the Fast Gradient Sign Method.\n",
    "\"\"\"\n",
    "from tqdm import tqdm\n",
    "\n",
    "import torch\n",
    "import torch.nn as nn\n",
    "import torch.nn.functional as F\n",
    "import torch.optim as optim\n",
    "import numpy as np\n",
    "\n",
    "from art.attacks.evasion import FastGradientMethod\n",
    "from art.estimators.classification import PyTorchClassifier\n",
    "from art.utils import load_mnist\n",
    "\n",
    "from matplotlib import pyplot as plt\n",
    "\n",
    "\n",
    "DEVICE=torch.device(\"cuda\" if torch.cuda.is_available() else \"cpu\")"
   ]
  },
  {
   "cell_type": "code",
   "execution_count": null,
   "metadata": {
    "tags": []
   },
   "outputs": [],
   "source": [
    "class Net(nn.Module):\n",
    "    def __init__(self):\n",
    "        super(Net, self).__init__()\n",
    "        self.conv_1 = nn.Conv2d(in_channels=1, out_channels=4, kernel_size=5, stride=1)\n",
    "        self.conv_2 = nn.Conv2d(in_channels=4, out_channels=10, kernel_size=5, stride=1)\n",
    "        self.fc_1 = nn.Linear(in_features=4 * 4 * 10, out_features=100)\n",
    "        self.fc_2 = nn.Linear(in_features=100, out_features=10)\n",
    "\n",
    "    def forward(self, x):\n",
    "        x = F.relu(self.conv_1(x))\n",
    "        x = F.max_pool2d(x, 2, 2)\n",
    "        x = F.relu(self.conv_2(x))\n",
    "        x = F.max_pool2d(x, 2, 2)\n",
    "        x = x.view(-1, 4 * 4 * 10)\n",
    "        x = F.relu(self.fc_1(x))\n",
    "        x = self.fc_2(x)\n",
    "        return x"
   ]
  },
  {
   "cell_type": "code",
   "execution_count": null,
   "metadata": {},
   "outputs": [],
   "source": []
  },
  {
   "cell_type": "code",
   "execution_count": null,
   "metadata": {
    "tags": []
   },
   "outputs": [],
   "source": [
    "(x_train, y_train), (x_test, y_test), min_pixel_value, max_pixel_value = load_mnist()\n",
    "\n",
    "x_train = np.transpose(x_train, (0, 3, 1, 2)).astype(np.float32)\n",
    "x_test = np.transpose(x_test, (0, 3, 1, 2)).astype(np.float32)"
   ]
  },
  {
   "cell_type": "code",
   "execution_count": null,
   "metadata": {
    "tags": []
   },
   "outputs": [],
   "source": [
    "model = Net()\n",
    "\n",
    "criterion = nn.CrossEntropyLoss()\n",
    "optimizer = optim.Adam(model.parameters(), lr=0.01)"
   ]
  },
  {
   "cell_type": "code",
   "execution_count": null,
   "metadata": {
    "tags": []
   },
   "outputs": [],
   "source": [
    "classifier = PyTorchClassifier(\n",
    "    model=model,\n",
    "    clip_values=(min_pixel_value, max_pixel_value),\n",
    "    loss=criterion,\n",
    "    optimizer=optimizer,\n",
    "    input_shape=(1, 28, 28),\n",
    "    nb_classes=10,\n",
    ")"
   ]
  },
  {
   "cell_type": "code",
   "execution_count": null,
   "metadata": {},
   "outputs": [],
   "source": []
  },
  {
   "cell_type": "code",
   "execution_count": null,
   "metadata": {
    "tags": []
   },
   "outputs": [],
   "source": [
    "classifier.fit(x_train, y_train, batch_size=64, nb_epochs=3)"
   ]
  },
  {
   "cell_type": "code",
   "execution_count": null,
   "metadata": {
    "tags": []
   },
   "outputs": [],
   "source": [
    "predictions = classifier.predict(x_test)\n",
    "accuracy = np.sum(np.argmax(predictions, axis=1) == np.argmax(y_test, axis=1)) / len(y_test)\n",
    "print(\"Accuracy on test examples: {}%\".format(accuracy * 100))"
   ]
  },
  {
   "cell_type": "code",
   "execution_count": null,
   "metadata": {},
   "outputs": [],
   "source": []
  },
  {
   "cell_type": "code",
   "execution_count": null,
   "metadata": {
    "tags": []
   },
   "outputs": [],
   "source": [
    "attack = FastGradientMethod(estimator=classifier, eps=0.2)\n",
    "x_test_adv = attack.generate(x=x_test)"
   ]
  },
  {
   "cell_type": "code",
   "execution_count": null,
   "metadata": {
    "tags": []
   },
   "outputs": [],
   "source": [
    "predictions = classifier.predict(x_test_adv)\n",
    "accuracy = np.sum(np.argmax(predictions, axis=1) == np.argmax(y_test, axis=1)) / len(y_test)\n",
    "print(\"Accuracy on adversarial test examples: {}%\".format(accuracy * 100))"
   ]
  },
  {
   "cell_type": "code",
   "execution_count": null,
   "metadata": {},
   "outputs": [],
   "source": []
  },
  {
   "cell_type": "code",
   "execution_count": null,
   "metadata": {},
   "outputs": [],
   "source": [
    "from transformers import BertModel, AdamW"
   ]
  },
  {
   "cell_type": "code",
   "execution_count": null,
   "metadata": {},
   "outputs": [],
   "source": [
    "model_name = 'bert-base-uncased'\n",
    "themaxlength=512\n",
    "\n",
    "defense_filter = BertModel.from_pretrained(model_name).to(DEVICE)\n",
    "linear_in = nn.Linear(16,768).to(DEVICE)\n",
    "linear_out = nn.Linear(768,16).to(DEVICE)"
   ]
  },
  {
   "cell_type": "code",
   "execution_count": null,
   "metadata": {},
   "outputs": [],
   "source": [
    "for name, param in defense_filter.named_parameters():\n",
    "    if 'LayerNorm' in name:\n",
    "        param.requires_grad = True\n",
    "    else:\n",
    "        param.requires_grad = False\n",
    "\n",
    "for name, param in classifier.model.named_parameters():\n",
    "    param.requires_grad = False\n",
    "\n",
    "for name, param in linear_in.named_parameters():\n",
    "    param.requires_grad = True\n",
    "    \n",
    "for name, param in linear_out.named_parameters():\n",
    "    param.requires_grad = True"
   ]
  },
  {
   "cell_type": "code",
   "execution_count": null,
   "metadata": {},
   "outputs": [],
   "source": [
    "params = list(filter(lambda p: p.requires_grad, linear_in.parameters()))+list(filter(lambda p: p.requires_grad, linear_out.parameters()))+list(filter(lambda p: p.requires_grad, defense_filter.parameters()))\n",
    "filter_optimizer = AdamW(params)"
   ]
  },
  {
   "cell_type": "code",
   "execution_count": null,
   "metadata": {},
   "outputs": [],
   "source": []
  },
  {
   "cell_type": "code",
   "execution_count": null,
   "metadata": {},
   "outputs": [],
   "source": [
    "def get_batches_mnist(x):\n",
    "    patches=None\n",
    "    x_torch=torch.tensor(x)\n",
    "    for i in range(7):\n",
    "        for j in range(7):\n",
    "            if(i==0 and j==0):\n",
    "                patches=x_torch[:,:,i*4:(i+1)*4,j*4:(j+1)*4].reshape((x_torch.shape[0],1,16))\n",
    "            else:\n",
    "                patches=torch.cat((patches,x_torch[:,:,i*4:(i+1)*4,j*4:(j+1)*4].reshape((x_torch.shape[0],1,16))),axis=1)\n",
    "    return patches"
   ]
  },
  {
   "cell_type": "code",
   "execution_count": null,
   "metadata": {},
   "outputs": [],
   "source": [
    "def get_image_mnist(x):\n",
    "    x=x.reshape((x.shape[0],7,7,4,4))\n",
    "    img_l1=[]\n",
    "    for i in range(7):\n",
    "        img_l2=[]\n",
    "        for j in range(7):\n",
    "                img_l2.append(x[:,i,j,:,:])\n",
    "        img_l1.append(torch.cat(img_l2,axis=-1))\n",
    "    img=torch.cat(img_l1,axis=-2).unsqueeze(1)\n",
    "    return img"
   ]
  },
  {
   "cell_type": "code",
   "execution_count": null,
   "metadata": {},
   "outputs": [],
   "source": []
  },
  {
   "cell_type": "code",
   "execution_count": null,
   "metadata": {},
   "outputs": [],
   "source": [
    "epoch=20\n",
    "x_in=x_test_adv\n",
    "y_in=y_test\n",
    "defense_filter.train()\n",
    "classifier._model.eval()\n",
    "l=[]\n",
    "final_x_pured=[]\n",
    "for e in range(epoch+1):\n",
    "    final_x_pured=[]\n",
    "    pbar=tqdm(range(int(len(x_in)/100)))\n",
    "    pbar.set_description(\"Epoch {:0>2d}\".format(e+1))\n",
    "    ll=0\n",
    "    if(e==epoch):\n",
    "        defense_filter.eval()\n",
    "    for i in pbar:#100*100\n",
    "        filter_optimizer.zero_grad()\n",
    "        x=x_in[(i*100):((i+1)*100)]\n",
    "        y=y_in[(i*100):((i+1)*100)]\n",
    "        patches=get_batches_mnist(x)\n",
    "        tmp=linear_in(patches.to(DEVICE))\n",
    "        tmp2=defense_filter(inputs_embeds=tmp)\n",
    "        tmp3=tmp2['last_hidden_state']\n",
    "        tmp4=linear_out(tmp3)\n",
    "        imp=get_image_mnist(tmp4)\n",
    "        x_pured=torch.tensor(x).to(DEVICE)+imp\n",
    "        if(len(final_x_pured)==0):\n",
    "            final_x_pured=x_pured.detach().cpu()\n",
    "        else:\n",
    "            final_x_pured=torch.cat((final_x_pured,x_pured.detach().cpu()),axis=0)\n",
    "        if(e==epoch):\n",
    "            continue\n",
    "        out=classifier._model(x_pured)\n",
    "        loss=classifier._loss(out[-1],torch.tensor(y).to(DEVICE)).sum()\n",
    "        ll=ll+loss.item()\n",
    "        pbar.set_postfix({'loss_sum':'{:.4f}'.format(ll)})\n",
    "        loss.backward()\n",
    "        filter_optimizer.step()\n",
    "    if(e!=epoch):\n",
    "        l.append(ll)"
   ]
  },
  {
   "cell_type": "code",
   "execution_count": null,
   "metadata": {},
   "outputs": [],
   "source": [
    "plt.plot(l)\n",
    "plt.savefig(\"loss_mnist\")"
   ]
  },
  {
   "cell_type": "code",
   "execution_count": null,
   "metadata": {},
   "outputs": [],
   "source": []
  },
  {
   "cell_type": "code",
   "execution_count": null,
   "metadata": {},
   "outputs": [],
   "source": [
    "defense_filter.eval()\n",
    "classifier._model.eval()\n",
    "\n",
    "predictions = classifier.predict(final_x_pured)\n",
    "accuracy = np.sum(np.argmax(predictions, axis=1) == np.argmax(y_test, axis=1)) / len(y_test)\n",
    "print(\"Accuracy on adversarial test examples after purifying: {}%\".format(accuracy * 100))"
   ]
  },
  {
   "cell_type": "code",
   "execution_count": null,
   "metadata": {},
   "outputs": [],
   "source": [
    "plt.imshow(x_test[0][0],\"gray\")\n",
    "plt.savefig(\"mnist\")"
   ]
  },
  {
   "cell_type": "code",
   "execution_count": null,
   "metadata": {},
   "outputs": [],
   "source": [
    "plt.imshow(x_test_adv[0][0],\"gray\")\n",
    "plt.savefig(\"mnist_adv\")"
   ]
  },
  {
   "cell_type": "code",
   "execution_count": null,
   "metadata": {},
   "outputs": [],
   "source": [
    "plt.imshow(final_x_pured[0][0],\"gray\")\n",
    "plt.savefig(\"mnist_pured\")"
   ]
  },
  {
   "cell_type": "code",
   "execution_count": null,
   "metadata": {},
   "outputs": [],
   "source": []
  },
  {
   "cell_type": "code",
   "execution_count": null,
   "metadata": {},
   "outputs": [],
   "source": [
    "x_train_adv = attack.generate(x=x_train)"
   ]
  },
  {
   "cell_type": "code",
   "execution_count": null,
   "metadata": {},
   "outputs": [],
   "source": [
    "predictions = classifier.predict(x_train_adv)\n",
    "accuracy = np.sum(np.argmax(predictions, axis=1) == np.argmax(y_train, axis=1)) / len(y_train)\n",
    "print(\"Accuracy on adversarial train examples: {}%\".format(accuracy * 100))"
   ]
  },
  {
   "cell_type": "code",
   "execution_count": null,
   "metadata": {},
   "outputs": [],
   "source": [
    "defense_filter.eval()\n",
    "classifier._model.eval()\n",
    "\n",
    "x_in=x_train_adv\n",
    "y_in=y_train\n",
    "\n",
    "final_x_pured=[]\n",
    "pbar=tqdm(range(int(len(x_in)/100)))\n",
    "with torch.no_grad():\n",
    "    for i in pbar:#100*100\n",
    "        x=x_in[(i*100):((i+1)*100)]\n",
    "        y=y_in[(i*100):((i+1)*100)]\n",
    "        patches=get_batches_mnist(x)\n",
    "        tmp=linear_in(patches.to(DEVICE))\n",
    "        tmp2=defense_filter(inputs_embeds=tmp)\n",
    "        tmp3=tmp2['last_hidden_state']\n",
    "        tmp4=linear_out(tmp3)\n",
    "        imp=get_image_mnist(tmp4)\n",
    "        x_pured=torch.tensor(x).to(DEVICE)+imp\n",
    "        if(len(final_x_pured)==0):\n",
    "            final_x_pured=x_pured.detach().cpu()\n",
    "        else:\n",
    "            final_x_pured=torch.cat((final_x_pured,x_pured.detach().cpu()),axis=0)\n",
    "\n",
    "predictions = classifier.predict(final_x_pured)\n",
    "accuracy = np.sum(np.argmax(predictions, axis=1) == np.argmax(y_in, axis=1)) / len(y_in)\n",
    "print(\"Accuracy on adversarial train examples after purifying: {}%\".format(accuracy * 100))   "
   ]
  },
  {
   "cell_type": "code",
   "execution_count": null,
   "metadata": {},
   "outputs": [],
   "source": []
  },
  {
   "cell_type": "code",
   "execution_count": null,
   "metadata": {},
   "outputs": [],
   "source": [
    "torch.save(defense_filter.state_dict(), \"defense_filter_mnist.pdparams\")\n",
    "torch.save(linear_in.state_dict(), \"linear_in_mnist.pdparams\")\n",
    "torch.save(linear_out.state_dict(), \"linear_out_mnist.pdparams\")"
   ]
  },
  {
   "cell_type": "code",
   "execution_count": null,
   "metadata": {},
   "outputs": [],
   "source": [
    "# defense_filter.load_state_dict(torch.load(\"defense_filter_mnist.pdparams\"))\n",
    "# linear_in.load_state_dict(torch.load(\"linear_in_mnist.pdparams\"))\n",
    "# linear_out.load_state_dict(torch.load(\"linear_out_mnist.pdparams\"))"
   ]
  },
  {
   "cell_type": "code",
   "execution_count": null,
   "metadata": {},
   "outputs": [],
   "source": []
  }
 ],
 "metadata": {
  "kernelspec": {
   "display_name": "Python 3 (ipykernel)",
   "language": "python",
   "name": "python3"
  },
  "language_info": {
   "codemirror_mode": {
    "name": "ipython",
    "version": 3
   },
   "file_extension": ".py",
   "mimetype": "text/x-python",
   "name": "python",
   "nbconvert_exporter": "python",
   "pygments_lexer": "ipython3",
   "version": "3.8.10"
  }
 },
 "nbformat": 4,
 "nbformat_minor": 4
}
