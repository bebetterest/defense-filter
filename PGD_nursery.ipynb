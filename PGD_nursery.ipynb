{
 "cells": [
  {
   "cell_type": "code",
   "execution_count": null,
   "id": "933012cf-18aa-4587-864b-421151db31b9",
   "metadata": {},
   "outputs": [],
   "source": [
    "from tqdm import tqdm\n",
    "\n",
    "import torch\n",
    "import torch.nn as nn\n",
    "import torch.nn.functional as F\n",
    "import torch.optim as optim\n",
    "import numpy as np\n",
    "\n",
    "from art.attacks.evasion import ProjectedGradientDescent\n",
    "from art.estimators.classification import PyTorchClassifier\n",
    "from art.utils import load_nursery\n",
    "\n",
    "from matplotlib import pyplot as plt\n",
    "\n",
    "\n",
    "DEVICE=torch.device(\"cuda\" if torch.cuda.is_available() else \"cpu\")"
   ]
  },
  {
   "cell_type": "code",
   "execution_count": null,
   "id": "134123d6-9196-4acd-ac82-9c8530590eca",
   "metadata": {},
   "outputs": [],
   "source": [
    "class Net(nn.Module):\n",
    "    def __init__(self):\n",
    "        super(Net, self).__init__()\n",
    "        self.linear1=nn.Linear(24,10)\n",
    "        self.sigmoid1=nn.Sigmoid()\n",
    "        self.linear2=nn.Linear(10,4)\n",
    "        \n",
    "    def forward(self, x):\n",
    "        x = self.sigmoid1(self.linear1(x))\n",
    "        x = self.linear2(x)\n",
    "        return x"
   ]
  },
  {
   "cell_type": "code",
   "execution_count": null,
   "id": "bbd13a38-97e1-46be-b51c-573d2be30864",
   "metadata": {},
   "outputs": [],
   "source": [
    "(x_train, y_train), (x_test, y_test), min_pixel_value, max_pixel_value = load_nursery()\n",
    "x_train=x_train.astype(\"float32\")\n",
    "y_train=y_train.astype(\"long\")\n",
    "x_test=x_test.astype(\"float32\")\n",
    "y_test=y_test.astype(\"long\")"
   ]
  },
  {
   "cell_type": "code",
   "execution_count": null,
   "id": "0ab337bc-c4fc-4052-8826-fc9c2d4d8ca6",
   "metadata": {},
   "outputs": [],
   "source": [
    "model = Net()\n",
    "\n",
    "criterion = nn.CrossEntropyLoss()\n",
    "optimizer = optim.Adam(model.parameters(),lr=0.001)"
   ]
  },
  {
   "cell_type": "code",
   "execution_count": null,
   "id": "fccc6d78-a35e-435b-8eb3-f9d46b5d0ff1",
   "metadata": {},
   "outputs": [],
   "source": [
    "classifier = PyTorchClassifier(\n",
    "    model=model,\n",
    "    clip_values=(min_pixel_value, max_pixel_value),\n",
    "    loss=criterion,\n",
    "    optimizer=optimizer,\n",
    "    input_shape=(24),\n",
    "    nb_classes=4,\n",
    ")"
   ]
  },
  {
   "cell_type": "code",
   "execution_count": null,
   "id": "8ad3852c-4117-4869-b8f0-de0224f61145",
   "metadata": {},
   "outputs": [],
   "source": [
    "classifier.fit(x_train, y_train, batch_size=4, nb_epochs=3)"
   ]
  },
  {
   "cell_type": "code",
   "execution_count": null,
   "id": "4b0f7f12-5d74-43af-8394-b0c62b6b0bce",
   "metadata": {},
   "outputs": [],
   "source": [
    "predictions = classifier.predict(x_test)\n",
    "accuracy = np.sum(np.argmax(predictions, axis=1) ==y_test) / len(y_test)\n",
    "print(\"Accuracy on test examples: {}%\".format(accuracy * 100))"
   ]
  },
  {
   "cell_type": "code",
   "execution_count": null,
   "id": "5565b73c-ef70-4d99-a15e-ffe1381f092e",
   "metadata": {},
   "outputs": [],
   "source": [
    "attack = ProjectedGradientDescent(estimator=classifier, eps=0.6)\n",
    "x_test_adv = attack.generate(x=x_test)"
   ]
  },
  {
   "cell_type": "code",
   "execution_count": null,
   "id": "8bfe041d-ccc6-4edd-aaae-038e6f4c20fc",
   "metadata": {},
   "outputs": [],
   "source": [
    "predictions = classifier.predict(x_test_adv)\n",
    "accuracy = np.sum(np.argmax(predictions, axis=1) == y_test) / len(y_test)\n",
    "print(\"Accuracy on adversarial test examples: {}%\".format(accuracy * 100))"
   ]
  },
  {
   "cell_type": "code",
   "execution_count": null,
   "id": "bb6b9c11-c158-4aed-a3ea-7ff474713169",
   "metadata": {},
   "outputs": [],
   "source": []
  },
  {
   "cell_type": "code",
   "execution_count": null,
   "id": "4f0434ea-c18d-416b-aebe-d9f6d2ea3dea",
   "metadata": {},
   "outputs": [],
   "source": [
    "from transformers import BertModel, AdamW"
   ]
  },
  {
   "cell_type": "code",
   "execution_count": null,
   "id": "7d421ae5-acaa-4046-b55f-2940b5484e8b",
   "metadata": {},
   "outputs": [],
   "source": [
    "model_name = 'bert-base-uncased'\n",
    "themaxlength=512\n",
    "\n",
    "defense_filter = BertModel.from_pretrained(model_name).to(DEVICE)\n",
    "linear_in = nn.Linear(1,768).to(DEVICE)\n",
    "linear_out = nn.Linear(768,1).to(DEVICE)"
   ]
  },
  {
   "cell_type": "code",
   "execution_count": null,
   "id": "a315410c-d5ef-42d2-ab69-f2b4837bf7cc",
   "metadata": {},
   "outputs": [],
   "source": [
    "for name, param in defense_filter.named_parameters():\n",
    "    if 'LayerNorm' in name:\n",
    "        param.requires_grad = True\n",
    "    else:\n",
    "        param.requires_grad = False\n",
    "\n",
    "for name, param in classifier.model.named_parameters():\n",
    "    param.requires_grad = False\n",
    "\n",
    "for name, param in linear_in.named_parameters():\n",
    "    param.requires_grad = True\n",
    "    \n",
    "for name, param in linear_out.named_parameters():\n",
    "    param.requires_grad = True"
   ]
  },
  {
   "cell_type": "code",
   "execution_count": null,
   "id": "849ebe1b-c505-4810-b908-879247549511",
   "metadata": {},
   "outputs": [],
   "source": [
    "params = list(filter(lambda p: p.requires_grad, linear_in.parameters()))+list(filter(lambda p: p.requires_grad, linear_out.parameters()))+list(filter(lambda p: p.requires_grad, defense_filter.parameters()))\n",
    "filter_optimizer = AdamW(params)"
   ]
  },
  {
   "cell_type": "code",
   "execution_count": null,
   "id": "3c4c0686-45d7-4b9e-a948-20d3c328e53e",
   "metadata": {},
   "outputs": [],
   "source": []
  },
  {
   "cell_type": "code",
   "execution_count": null,
   "id": "50b9c32e-31d2-4dbe-8b80-2ff4a969a425",
   "metadata": {},
   "outputs": [],
   "source": [
    "epoch=5\n",
    "x_in=x_test_adv\n",
    "y_in=y_test\n",
    "defense_filter.train()\n",
    "classifier._model.eval()\n",
    "l=[]\n",
    "final_x_pured=[]\n",
    "for e in range(epoch+1):\n",
    "    final_x_pured=[]\n",
    "    pbar=tqdm(range(int(len(x_in)/4)))\n",
    "    pbar.set_description(\"Epoch {:0>2d}\".format(e+1))\n",
    "    ll=0\n",
    "    if(e==epoch):\n",
    "        defense_filter.eval()\n",
    "    for i in pbar:#100*100\n",
    "        filter_optimizer.zero_grad()\n",
    "        x=x_in[(i*4):((i+1)*4)]\n",
    "        y=y_in[(i*4):((i+1)*4)]\n",
    "        tmp=linear_in(torch.tensor(x).to(DEVICE).unsqueeze(-1))\n",
    "        tmp2=defense_filter(inputs_embeds=tmp)\n",
    "        tmp3=tmp2['last_hidden_state']\n",
    "        imp=linear_out(tmp3).squeeze()\n",
    "        x_pured=torch.tensor(x).to(DEVICE)+imp\n",
    "        if(len(final_x_pured)==0):\n",
    "            final_x_pured=x_pured.detach().cpu()\n",
    "        else:\n",
    "            final_x_pured=torch.cat((final_x_pured,x_pured.detach().cpu()),axis=0)\n",
    "        if(e==epoch):\n",
    "            continue\n",
    "        out=classifier._model(x_pured)\n",
    "        loss=classifier._loss(out[-1],torch.tensor(y).to(DEVICE).long()).sum()\n",
    "        ll=ll+loss.item()\n",
    "        pbar.set_postfix({'loss_sum':'{:.4f}'.format(ll)})\n",
    "        loss.backward()\n",
    "        filter_optimizer.step()\n",
    "    if(e!=epoch):\n",
    "        l.append(ll)"
   ]
  },
  {
   "cell_type": "code",
   "execution_count": null,
   "id": "65636f18-bf37-4b8f-9416-bb66cf6ab2db",
   "metadata": {},
   "outputs": [],
   "source": [
    "plt.plot(l)\n",
    "plt.savefig(\"loss_nursery\")"
   ]
  },
  {
   "cell_type": "code",
   "execution_count": null,
   "id": "77a231ef-31cf-470b-a17e-585b021bbd40",
   "metadata": {},
   "outputs": [],
   "source": []
  },
  {
   "cell_type": "code",
   "execution_count": null,
   "id": "b112cfd9-33a9-4b4c-a2b1-d7ed68fba6f6",
   "metadata": {},
   "outputs": [],
   "source": [
    "defense_filter.eval()\n",
    "classifier._model.eval()\n",
    "\n",
    "predictions = classifier.predict(final_x_pured)\n",
    "accuracy = np.sum(np.argmax(predictions, axis=1) == y_test) / len(y_test)\n",
    "print(\"Accuracy on adversarial test examples after purifying: {}%\".format(accuracy * 100))"
   ]
  },
  {
   "cell_type": "code",
   "execution_count": null,
   "id": "f88fd711-5f77-485c-9168-ae6b3202786c",
   "metadata": {},
   "outputs": [],
   "source": [
    "x_train_adv = attack.generate(x=x_train)"
   ]
  },
  {
   "cell_type": "code",
   "execution_count": null,
   "id": "c6eaec6c-ec46-423c-b625-dad8441a24df",
   "metadata": {},
   "outputs": [],
   "source": [
    "predictions = classifier.predict(x_train_adv)\n",
    "accuracy = np.sum(np.argmax(predictions, axis=1) == y_train) / len(y_train)\n",
    "print(\"Accuracy on adversarial train examples: {}%\".format(accuracy * 100))"
   ]
  },
  {
   "cell_type": "code",
   "execution_count": null,
   "id": "032cd976-5445-4b48-b333-6e2bab5f3a5a",
   "metadata": {},
   "outputs": [],
   "source": [
    "defense_filter.eval()\n",
    "classifier._model.eval()\n",
    "\n",
    "x_in=x_train_adv\n",
    "y_in=y_train\n",
    "\n",
    "final_x_pured=[]\n",
    "pbar=tqdm(range(int(len(x_in)/4)))\n",
    "with torch.no_grad():\n",
    "    for i in pbar:#100*100\n",
    "        x=x_in[(i*4):((i+1)*4)]\n",
    "        y=y_in[(i*4):((i+1)*4)]\n",
    "        tmp=linear_in(torch.tensor(x).to(DEVICE).unsqueeze(-1))\n",
    "        tmp2=defense_filter(inputs_embeds=tmp)\n",
    "        tmp3=tmp2['last_hidden_state']\n",
    "        imp=linear_out(tmp3).squeeze()\n",
    "        x_pured=torch.tensor(x).to(DEVICE)+imp\n",
    "        if(len(final_x_pured)==0):\n",
    "            final_x_pured=x_pured.detach().cpu()\n",
    "        else:\n",
    "            final_x_pured=torch.cat((final_x_pured,x_pured.detach().cpu()),axis=0)\n",
    "\n",
    "predictions = classifier.predict(final_x_pured)\n",
    "accuracy = np.sum(np.argmax(predictions, axis=1) == y_in) / len(y_in)\n",
    "print(\"Accuracy on adversarial train examples after purifying: {}%\".format(accuracy * 100))   "
   ]
  },
  {
   "cell_type": "code",
   "execution_count": null,
   "id": "db08b540-2797-41f5-a17e-899949d38d29",
   "metadata": {},
   "outputs": [],
   "source": []
  },
  {
   "cell_type": "code",
   "execution_count": null,
   "id": "88dc8329-fd55-48d5-a9d2-794513d55dbb",
   "metadata": {},
   "outputs": [],
   "source": [
    "torch.save(defense_filter.state_dict(), \"defense_filter_nursery.pdparams\")\n",
    "torch.save(linear_in.state_dict(), \"linear_in_nursery.pdparams\")\n",
    "torch.save(linear_out.state_dict(), \"linear_out_nursery.pdparams\")"
   ]
  },
  {
   "cell_type": "code",
   "execution_count": null,
   "id": "8efed300-bdf9-4701-926c-b368949ad56b",
   "metadata": {},
   "outputs": [],
   "source": [
    "# defense_filter.load_state_dict(torch.load(\"defense_filter_nursery.pdparams\"))\n",
    "# linear_in.load_state_dict(torch.load(\"linear_in_nursery.pdparams\"))\n",
    "# linear_out.load_state_dict(torch.load(\"linear_out_nursery.pdparams\"))"
   ]
  }
 ],
 "metadata": {
  "kernelspec": {
   "display_name": "Python 3 (ipykernel)",
   "language": "python",
   "name": "python3"
  },
  "language_info": {
   "codemirror_mode": {
    "name": "ipython",
    "version": 3
   },
   "file_extension": ".py",
   "mimetype": "text/x-python",
   "name": "python",
   "nbconvert_exporter": "python",
   "pygments_lexer": "ipython3",
   "version": "3.8.10"
  }
 },
 "nbformat": 4,
 "nbformat_minor": 5
}
